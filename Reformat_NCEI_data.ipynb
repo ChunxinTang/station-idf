{
 "cells": [
  {
   "cell_type": "code",
   "execution_count": null,
   "metadata": {},
   "outputs": [],
   "source": [
    "import pandas as pd\n",
    "import numpy as np"
   ]
  },
  {
   "cell_type": "code",
   "execution_count": null,
   "metadata": {},
   "outputs": [],
   "source": [
    "\"[*]\"\n",
    "\n",
    "\"\"\"\n",
    "Variables to modify:\n",
    "file_input; path to the csv file containing the data\n",
    "        that you downloaded from the NCDC website\n",
    "file_output; name of the new file that will be generated\n",
    "with the reformated data. This file_output file will be\n",
    "stored in the same folder as this jupyter notebook.\n",
    "\n",
    "This file_output file will be the one that you use as\n",
    "input to the \"historical-IDF\" tutorial.\n",
    "\n",
    "\"\"\"\n",
    "\n",
    "station_timeseries_input = \"/path/to/where/you/downloaded/NCEI/data.csv\"\n",
    "reformatted_timeseries_output = \"/path/where/to/store/reformated/data.csv\""
   ]
  },
  {
   "cell_type": "code",
   "execution_count": null,
   "metadata": {},
   "outputs": [],
   "source": [
    "df = pd.read_csv(file_input, parse_dates=['DATE'])"
   ]
  },
  {
   "cell_type": "markdown",
   "metadata": {},
   "source": [
    "Uncomment line below to filter time series between 1950 and 2005 for using in the notebook `Use_Downscaled_GCM_Output_Future_Station_IDF_Curves`. \n",
    "\n",
    "The reason for filtering is that the historical station time series and the historical GCM time series period needs to match. "
   ]
  },
  {
   "cell_type": "code",
   "execution_count": null,
   "metadata": {},
   "outputs": [],
   "source": [
    "#df = df['1950':'2006']"
   ]
  },
  {
   "cell_type": "code",
   "execution_count": null,
   "metadata": {},
   "outputs": [],
   "source": [
    "df['year'] = df.DATE.dt.year\n",
    "df.columns = ['STATION', 'NAME', 'date', 'val', 'PRCP_ATTRIBUTES', 'year']\n",
    "df['qflags'] = np.repeat(np.nan, len(df))\n",
    "df['mflags'] = np.repeat(np.nan, len(df))\n",
    "df['mflags'] = np.repeat(np.nan, len(df))\n",
    "df.to_csv('{}'.format(file_output))"
   ]
  }
 ],
 "metadata": {
  "kernelspec": {
   "display_name": "Python 3",
   "language": "python",
   "name": "python3"
  },
  "language_info": {
   "codemirror_mode": {
    "name": "ipython",
    "version": 3
   },
   "file_extension": ".py",
   "mimetype": "text/x-python",
   "name": "python",
   "nbconvert_exporter": "python",
   "pygments_lexer": "ipython3",
   "version": "3.8.3"
  }
 },
 "nbformat": 4,
 "nbformat_minor": 2
}
