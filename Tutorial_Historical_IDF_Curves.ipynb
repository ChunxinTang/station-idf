{
 "cells": [
  {
   "cell_type": "code",
   "execution_count": 1,
   "metadata": {
    "collapsed": true
   },
   "outputs": [],
   "source": [
    "## Load necessary libraries\n",
    "%matplotlib inline\n",
    "from constructIDF import *\n",
    "import pandas as pd\n",
    "import numpy as np\n",
    "import itertools\n",
    "import argparse\n",
    "import matplotlib.pyplot as plt\n",
    "\n",
    "from matplotlib import rcParams\n",
    "\n",
    "rcParams['xtick.labelsize'] = 14\n",
    "rcParams['ytick.labelsize'] = 14"
   ]
  },
  {
   "cell_type": "markdown",
   "metadata": {},
   "source": [
    "### Step 1: Read file with hourly rainfall records."
   ]
  },
  {
   "cell_type": "markdown",
   "metadata": {
    "collapsed": true
   },
   "source": [
    "The rainfall observations used in this example are from the station [COOP station id USC00360821](https://www.ncdc.noaa.gov/homr/#ncdcstnid=20016672&tab=MSHR) hourly time series (previously obtained and cleaned from the National Oceanic and Atmospheric Administration National Centers for Environmental Information accessed [here](https://www.ncei.noaa.gov/data/coop-hourly-precipitation/v2/)) \n"
   ]
  },
  {
   "cell_type": "code",
   "execution_count": 16,
   "metadata": {
    "collapsed": true
   },
   "outputs": [],
   "source": [
    "# Specify path to hourly rainfall time series\n",
    "path = \"/Users/tanialopez/historicalIDF/example_data/USC00360821.csv\""
   ]
  },
  {
   "cell_type": "markdown",
   "metadata": {},
   "source": [
    "Read data into a dataframe and examine.\n",
    "Hourly rainfall observations are organized by date and record, with flags inherited from the NCEI data. For more information on the flag meanings, visit\n",
    "https://www.ncei.noaa.gov/data/coop-hourly-precipitation/v2/doc/readme.csv.txt"
   ]
  },
  {
   "cell_type": "code",
   "execution_count": 3,
   "metadata": {},
   "outputs": [
    {
     "data": {
      "text/html": [
       "<div>\n",
       "<style>\n",
       "    .dataframe thead tr:only-child th {\n",
       "        text-align: right;\n",
       "    }\n",
       "\n",
       "    .dataframe thead th {\n",
       "        text-align: left;\n",
       "    }\n",
       "\n",
       "    .dataframe tbody tr th {\n",
       "        vertical-align: top;\n",
       "    }\n",
       "</style>\n",
       "<table border=\"1\" class=\"dataframe\">\n",
       "  <thead>\n",
       "    <tr style=\"text-align: right;\">\n",
       "      <th></th>\n",
       "      <th>date</th>\n",
       "      <th>val</th>\n",
       "      <th>qflags</th>\n",
       "      <th>mflags</th>\n",
       "    </tr>\n",
       "  </thead>\n",
       "  <tbody>\n",
       "    <tr>\n",
       "      <th>0</th>\n",
       "      <td>1960-05-24 00:00:00</td>\n",
       "      <td>NaN</td>\n",
       "      <td>M</td>\n",
       "      <td></td>\n",
       "    </tr>\n",
       "    <tr>\n",
       "      <th>1</th>\n",
       "      <td>1960-05-24 01:00:00</td>\n",
       "      <td>NaN</td>\n",
       "      <td>M</td>\n",
       "      <td></td>\n",
       "    </tr>\n",
       "    <tr>\n",
       "      <th>2</th>\n",
       "      <td>1960-05-24 02:00:00</td>\n",
       "      <td>NaN</td>\n",
       "      <td>M</td>\n",
       "      <td></td>\n",
       "    </tr>\n",
       "    <tr>\n",
       "      <th>3</th>\n",
       "      <td>1960-05-24 03:00:00</td>\n",
       "      <td>NaN</td>\n",
       "      <td>M</td>\n",
       "      <td></td>\n",
       "    </tr>\n",
       "    <tr>\n",
       "      <th>4</th>\n",
       "      <td>1960-05-24 04:00:00</td>\n",
       "      <td>NaN</td>\n",
       "      <td>M</td>\n",
       "      <td></td>\n",
       "    </tr>\n",
       "  </tbody>\n",
       "</table>\n",
       "</div>"
      ],
      "text/plain": [
       "                  date  val qflags mflags\n",
       "0  1960-05-24 00:00:00  NaN      M       \n",
       "1  1960-05-24 01:00:00  NaN      M       \n",
       "2  1960-05-24 02:00:00  NaN      M       \n",
       "3  1960-05-24 03:00:00  NaN      M       \n",
       "4  1960-05-24 04:00:00  NaN      M       "
      ]
     },
     "execution_count": 3,
     "metadata": {},
     "output_type": "execute_result"
    }
   ],
   "source": [
    "station_data = pd.read_csv(path, index_col=0)\n",
    "station_data.head()"
   ]
  },
  {
   "cell_type": "markdown",
   "metadata": {},
   "source": [
    "### Step 2: Construct Annual Maximum Series"
   ]
  },
  {
   "cell_type": "markdown",
   "metadata": {},
   "source": [
    "IDF curves are constructed based on the Annual Maximum Series (AMS) or Partial Duration Series (PDS). In this tutorial, and given the functions implemented in `constructIDF` we will construct IDF based on AMS. The AMS corresponds to the maximum rainfall value accumulated during a specific duration for each year in record. We want to construct IDF curves for longer durations than one hour (e.g. 2 hours, 6 hours, etc.) and we can do so by aggregating the series above to the corresponding duration"
   ]
  },
  {
   "cell_type": "code",
   "execution_count": 4,
   "metadata": {
    "collapsed": true
   },
   "outputs": [],
   "source": [
    "# Specify durations for which IDF curves will be created\n",
    "# From one hour, to 3 days.\n",
    "\n",
    "durations = [1, 2, 3, 6, 12, 24, 48, 72]"
   ]
  },
  {
   "cell_type": "code",
   "execution_count": 5,
   "metadata": {
    "collapsed": true
   },
   "outputs": [],
   "source": [
    "# Reformat station data and specify durations to compute AMS\n",
    "ts = AMS(path, durations)\n"
   ]
  },
  {
   "cell_type": "code",
   "execution_count": 6,
   "metadata": {
    "scrolled": true
   },
   "outputs": [
    {
     "data": {
      "text/html": [
       "<div>\n",
       "<style>\n",
       "    .dataframe thead tr:only-child th {\n",
       "        text-align: right;\n",
       "    }\n",
       "\n",
       "    .dataframe thead th {\n",
       "        text-align: left;\n",
       "    }\n",
       "\n",
       "    .dataframe tbody tr th {\n",
       "        vertical-align: top;\n",
       "    }\n",
       "</style>\n",
       "<table border=\"1\" class=\"dataframe\">\n",
       "  <thead>\n",
       "    <tr style=\"text-align: right;\">\n",
       "      <th></th>\n",
       "      <th>date</th>\n",
       "      <th>val</th>\n",
       "    </tr>\n",
       "  </thead>\n",
       "  <tbody>\n",
       "    <tr>\n",
       "      <th>0</th>\n",
       "      <td>1960-05-24 00:00:00</td>\n",
       "      <td>NaN</td>\n",
       "    </tr>\n",
       "    <tr>\n",
       "      <th>1</th>\n",
       "      <td>1960-05-24 01:00:00</td>\n",
       "      <td>NaN</td>\n",
       "    </tr>\n",
       "    <tr>\n",
       "      <th>2</th>\n",
       "      <td>1960-05-24 02:00:00</td>\n",
       "      <td>NaN</td>\n",
       "    </tr>\n",
       "    <tr>\n",
       "      <th>3</th>\n",
       "      <td>1960-05-24 03:00:00</td>\n",
       "      <td>NaN</td>\n",
       "    </tr>\n",
       "    <tr>\n",
       "      <th>4</th>\n",
       "      <td>1960-05-24 04:00:00</td>\n",
       "      <td>NaN</td>\n",
       "    </tr>\n",
       "  </tbody>\n",
       "</table>\n",
       "</div>"
      ],
      "text/plain": [
       "                 date  val\n",
       "0 1960-05-24 00:00:00  NaN\n",
       "1 1960-05-24 01:00:00  NaN\n",
       "2 1960-05-24 02:00:00  NaN\n",
       "3 1960-05-24 03:00:00  NaN\n",
       "4 1960-05-24 04:00:00  NaN"
      ]
     },
     "execution_count": 6,
     "metadata": {},
     "output_type": "execute_result"
    }
   ],
   "source": [
    "# This is the data that will be fed into the AMS methods.\n",
    "ts.reformatted_frame.head()"
   ]
  },
  {
   "cell_type": "markdown",
   "metadata": {},
   "source": [
    "Calculate AMS for each duration specified above. There are two methods implemented in `constructIDF`: *fixed maxima* and *sliding maxima* algorithms. The algorithms are provided in \n",
    "\n",
    "> Papalexiou, S. M., Dialynas, Y. G., & Grimaldi, S. (2016). Hershfield factor revisited: Correcting annual maximum precipitation. Journal of Hydrology, 542, 884–895. https://doi.org/10.1016/j.jhydrol.2016.09.058\n",
    "\n",
    "These two functions extract the annual maximum precipitation (AMS) from a precipitation time series. The two approaches arise from the need to account for the fact that precipitation is systematicall recorded. For example, at a meteorological station, someone will check the tipping bucket pluviographs at some fixed local time each day which is then recorded as a \"daily rainfall time series\" at a particular location. This case results in \"fixed\" records, but \"fixed\" records have been shown inappropriate for estimating rainfall maxima. Because rainfall is a continuous variable, discretizing it can result in biases when estimating extreme rainfall, so it is advised to estimate annual maximum series using the sliding maxima approach."
   ]
  },
  {
   "cell_type": "code",
   "execution_count": 7,
   "metadata": {
    "collapsed": true
   },
   "outputs": [],
   "source": [
    "# Calculate AMS for each duration specified above.\n",
    "# AMS can be calculated using sliding maxima. (This might take some time.)\n",
    "\n",
    "out = ts.calculate_AMS('sliding')"
   ]
  },
  {
   "cell_type": "code",
   "execution_count": 8,
   "metadata": {},
   "outputs": [
    {
     "data": {
      "text/html": [
       "<div>\n",
       "<style>\n",
       "    .dataframe thead tr:only-child th {\n",
       "        text-align: right;\n",
       "    }\n",
       "\n",
       "    .dataframe thead th {\n",
       "        text-align: left;\n",
       "    }\n",
       "\n",
       "    .dataframe tbody tr th {\n",
       "        vertical-align: top;\n",
       "    }\n",
       "</style>\n",
       "<table border=\"1\" class=\"dataframe\">\n",
       "  <thead>\n",
       "    <tr style=\"text-align: right;\">\n",
       "      <th></th>\n",
       "      <th>year</th>\n",
       "      <th>1H</th>\n",
       "      <th>2H</th>\n",
       "      <th>3H</th>\n",
       "      <th>6H</th>\n",
       "      <th>12H</th>\n",
       "      <th>24H</th>\n",
       "      <th>48H</th>\n",
       "      <th>72H</th>\n",
       "    </tr>\n",
       "  </thead>\n",
       "  <tbody>\n",
       "    <tr>\n",
       "      <th>0</th>\n",
       "      <td>1960</td>\n",
       "      <td>0.78</td>\n",
       "      <td>0.860000</td>\n",
       "      <td>0.890000</td>\n",
       "      <td>1.390000</td>\n",
       "      <td>1.450000</td>\n",
       "      <td>1.920000</td>\n",
       "      <td>2.340000</td>\n",
       "      <td>2.540000</td>\n",
       "    </tr>\n",
       "    <tr>\n",
       "      <th>1</th>\n",
       "      <td>1961</td>\n",
       "      <td>1.48</td>\n",
       "      <td>1.973333</td>\n",
       "      <td>1.973333</td>\n",
       "      <td>1.973333</td>\n",
       "      <td>2.390000</td>\n",
       "      <td>2.870714</td>\n",
       "      <td>2.960714</td>\n",
       "      <td>3.223214</td>\n",
       "    </tr>\n",
       "    <tr>\n",
       "      <th>2</th>\n",
       "      <td>1962</td>\n",
       "      <td>1.72</td>\n",
       "      <td>2.293333</td>\n",
       "      <td>2.293333</td>\n",
       "      <td>2.293333</td>\n",
       "      <td>2.293333</td>\n",
       "      <td>2.293333</td>\n",
       "      <td>2.293333</td>\n",
       "      <td>2.960000</td>\n",
       "    </tr>\n",
       "    <tr>\n",
       "      <th>3</th>\n",
       "      <td>1963</td>\n",
       "      <td>1.52</td>\n",
       "      <td>1.720000</td>\n",
       "      <td>2.150000</td>\n",
       "      <td>2.850000</td>\n",
       "      <td>3.050000</td>\n",
       "      <td>3.729167</td>\n",
       "      <td>3.829167</td>\n",
       "      <td>3.839167</td>\n",
       "    </tr>\n",
       "    <tr>\n",
       "      <th>4</th>\n",
       "      <td>1964</td>\n",
       "      <td>1.73</td>\n",
       "      <td>1.790000</td>\n",
       "      <td>1.800000</td>\n",
       "      <td>1.831111</td>\n",
       "      <td>2.930000</td>\n",
       "      <td>3.139286</td>\n",
       "      <td>3.139286</td>\n",
       "      <td>3.139286</td>\n",
       "    </tr>\n",
       "  </tbody>\n",
       "</table>\n",
       "</div>"
      ],
      "text/plain": [
       "   year    1H        2H        3H        6H       12H       24H       48H  \\\n",
       "0  1960  0.78  0.860000  0.890000  1.390000  1.450000  1.920000  2.340000   \n",
       "1  1961  1.48  1.973333  1.973333  1.973333  2.390000  2.870714  2.960714   \n",
       "2  1962  1.72  2.293333  2.293333  2.293333  2.293333  2.293333  2.293333   \n",
       "3  1963  1.52  1.720000  2.150000  2.850000  3.050000  3.729167  3.829167   \n",
       "4  1964  1.73  1.790000  1.800000  1.831111  2.930000  3.139286  3.139286   \n",
       "\n",
       "        72H  \n",
       "0  2.540000  \n",
       "1  3.223214  \n",
       "2  2.960000  \n",
       "3  3.839167  \n",
       "4  3.139286  "
      ]
     },
     "execution_count": 8,
     "metadata": {},
     "output_type": "execute_result"
    }
   ],
   "source": [
    "## Take a look at the computed AMS for each duration\n",
    "out.head()"
   ]
  },
  {
   "cell_type": "code",
   "execution_count": 9,
   "metadata": {
    "collapsed": true
   },
   "outputs": [],
   "source": [
    "# To save the data above as a csv file, uncomment this cell, and \n",
    "# change the savepath to your own desired location.\n",
    "\n",
    "# save_path = \"\"\n",
    "\n",
    "# out.to_csv(savepath)"
   ]
  },
  {
   "cell_type": "markdown",
   "metadata": {},
   "source": [
    "### Step 3: Fit Generalized Extreme Value and obtain rainfall depths"
   ]
  },
  {
   "cell_type": "markdown",
   "metadata": {},
   "source": [
    "The next step is to fit a generalized extreme value distribution to each duration's AMS. Once the parameters (location, scale and shape) are estimated, these are used to retrieve the return levels (in this case, rainfall depth) for different quantiles feed into the inverse of the CDF. Usually, the quantiles are equal to the inverse of the average recurrence interval (ARI) (e.g. 1/2 = 2-year).\n",
    "\n",
    "`constructIDF` has one method that merges all these steps, but we need to specify if we want to construct confidence intervals. The method implemented in `constructIDF` is bootstrapping, so we also need to specify the number of bootsrapped samples. Default value is 1000, and using a smaller number is not recommended.\n",
    "\n",
    "Other specification is the confidence level, alpha, used to estimate the confidence intervals. Default is 0.9 (90% confidence interval).\n",
    "\n",
    "\n",
    "In this tutorial, we will compute confidence intervals at a 90% confidence level using 1000 bootstrapped samples.\n",
    "\n",
    "```python\n",
    "ci = True\n",
    "alpha = 0.9\n",
    "number_bootstrap = 1000\n",
    "```"
   ]
  },
  {
   "cell_type": "code",
   "execution_count": 10,
   "metadata": {
    "collapsed": true
   },
   "outputs": [],
   "source": [
    "# Specifying values\n",
    "ci = True \n",
    "alpha = 0.9\n",
    "number_bootstrap = 1000"
   ]
  },
  {
   "cell_type": "code",
   "execution_count": 11,
   "metadata": {},
   "outputs": [
    {
     "name": "stderr",
     "output_type": "stream",
     "text": [
      "/Users/tanialopez/anaconda3/lib/python3.6/site-packages/scipy/stats/_continuous_distns.py:1902: RuntimeWarning: invalid value encountered in true_divide\n",
      "  np.sign(c)*(-g3+(g2+2*g2mg12)*g1)/((g2mg12)**(3./2.)))\n",
      "/Users/tanialopez/anaconda3/lib/python3.6/site-packages/scipy/stats/_continuous_distns.py:1907: RuntimeWarning: invalid value encountered in true_divide\n",
      "  (g4+(-4*g3+3*(g2+g2mg12)*g1)*g1)/((g2mg12)**2))\n"
     ]
    }
   ],
   "source": [
    "# Feeding the data and our specifications to the method.\n",
    "\n",
    "data = IDF(out, ci, number_bootstrap, alpha)\n",
    "\n",
    "# Construct IDF from the data we feed above and our specifications.\n",
    "# Some errors will be displayed, no worries. This will take long time because\n",
    "# of the number of bootsrapped samples.\n",
    "# The constructed IDF is by default for the following ARI:\n",
    "# 2-, 5-, 10-, 25-, 50-, 100-, 200-year\n",
    "\n",
    "data.construct_IDF()\n"
   ]
  },
  {
   "cell_type": "code",
   "execution_count": 12,
   "metadata": {
    "scrolled": true
   },
   "outputs": [
    {
     "data": {
      "text/html": [
       "<div>\n",
       "<style>\n",
       "    .dataframe thead tr:only-child th {\n",
       "        text-align: right;\n",
       "    }\n",
       "\n",
       "    .dataframe thead th {\n",
       "        text-align: left;\n",
       "    }\n",
       "\n",
       "    .dataframe tbody tr th {\n",
       "        vertical-align: top;\n",
       "    }\n",
       "</style>\n",
       "<table border=\"1\" class=\"dataframe\">\n",
       "  <thead>\n",
       "    <tr style=\"text-align: right;\">\n",
       "      <th></th>\n",
       "      <th>1H</th>\n",
       "      <th>2H</th>\n",
       "      <th>3H</th>\n",
       "      <th>6H</th>\n",
       "      <th>12H</th>\n",
       "      <th>24H</th>\n",
       "      <th>48H</th>\n",
       "      <th>72H</th>\n",
       "    </tr>\n",
       "  </thead>\n",
       "  <tbody>\n",
       "    <tr>\n",
       "      <th>L2-yr</th>\n",
       "      <td>1.150594</td>\n",
       "      <td>1.248215</td>\n",
       "      <td>1.328290</td>\n",
       "      <td>1.502296</td>\n",
       "      <td>1.764125</td>\n",
       "      <td>2.155792</td>\n",
       "      <td>2.419811</td>\n",
       "      <td>2.657746</td>\n",
       "    </tr>\n",
       "    <tr>\n",
       "      <th>L5-yr</th>\n",
       "      <td>1.612157</td>\n",
       "      <td>1.763152</td>\n",
       "      <td>1.844905</td>\n",
       "      <td>2.042904</td>\n",
       "      <td>2.440962</td>\n",
       "      <td>2.988397</td>\n",
       "      <td>3.345583</td>\n",
       "      <td>3.600219</td>\n",
       "    </tr>\n",
       "    <tr>\n",
       "      <th>L10-yr</th>\n",
       "      <td>1.900142</td>\n",
       "      <td>2.060848</td>\n",
       "      <td>2.146333</td>\n",
       "      <td>2.364383</td>\n",
       "      <td>2.881047</td>\n",
       "      <td>3.510846</td>\n",
       "      <td>3.963619</td>\n",
       "      <td>4.180359</td>\n",
       "    </tr>\n",
       "    <tr>\n",
       "      <th>L25-yr</th>\n",
       "      <td>2.210159</td>\n",
       "      <td>2.378081</td>\n",
       "      <td>2.470393</td>\n",
       "      <td>2.663897</td>\n",
       "      <td>3.295338</td>\n",
       "      <td>4.121224</td>\n",
       "      <td>4.658964</td>\n",
       "      <td>4.874234</td>\n",
       "    </tr>\n",
       "    <tr>\n",
       "      <th>L50-yr</th>\n",
       "      <td>2.413055</td>\n",
       "      <td>2.561771</td>\n",
       "      <td>2.665462</td>\n",
       "      <td>2.857233</td>\n",
       "      <td>3.514298</td>\n",
       "      <td>4.520836</td>\n",
       "      <td>5.106028</td>\n",
       "      <td>5.351106</td>\n",
       "    </tr>\n",
       "    <tr>\n",
       "      <th>L100-yr</th>\n",
       "      <td>2.586779</td>\n",
       "      <td>2.719487</td>\n",
       "      <td>2.824081</td>\n",
       "      <td>2.982470</td>\n",
       "      <td>3.690429</td>\n",
       "      <td>4.883220</td>\n",
       "      <td>5.490689</td>\n",
       "      <td>5.752912</td>\n",
       "    </tr>\n",
       "    <tr>\n",
       "      <th>L200-yr</th>\n",
       "      <td>2.757358</td>\n",
       "      <td>2.855398</td>\n",
       "      <td>2.965889</td>\n",
       "      <td>3.084958</td>\n",
       "      <td>3.845645</td>\n",
       "      <td>5.192879</td>\n",
       "      <td>5.814755</td>\n",
       "      <td>6.075493</td>\n",
       "    </tr>\n",
       "    <tr>\n",
       "      <th>2-yr</th>\n",
       "      <td>1.258053</td>\n",
       "      <td>1.367965</td>\n",
       "      <td>1.444931</td>\n",
       "      <td>1.644430</td>\n",
       "      <td>1.965536</td>\n",
       "      <td>2.362172</td>\n",
       "      <td>2.646813</td>\n",
       "      <td>2.901377</td>\n",
       "    </tr>\n",
       "    <tr>\n",
       "      <th>5-yr</th>\n",
       "      <td>1.843011</td>\n",
       "      <td>1.988834</td>\n",
       "      <td>2.086955</td>\n",
       "      <td>2.312304</td>\n",
       "      <td>2.770981</td>\n",
       "      <td>3.343910</td>\n",
       "      <td>3.774160</td>\n",
       "      <td>4.079151</td>\n",
       "    </tr>\n",
       "    <tr>\n",
       "      <th>10-yr</th>\n",
       "      <td>2.272056</td>\n",
       "      <td>2.440411</td>\n",
       "      <td>2.535148</td>\n",
       "      <td>2.790962</td>\n",
       "      <td>3.322841</td>\n",
       "      <td>4.006040</td>\n",
       "      <td>4.541964</td>\n",
       "      <td>4.858997</td>\n",
       "    </tr>\n",
       "    <tr>\n",
       "      <th>25-yr</th>\n",
       "      <td>2.871456</td>\n",
       "      <td>3.071854</td>\n",
       "      <td>3.145319</td>\n",
       "      <td>3.445062</td>\n",
       "      <td>4.031533</td>\n",
       "      <td>4.833822</td>\n",
       "      <td>5.551872</td>\n",
       "      <td>5.828236</td>\n",
       "    </tr>\n",
       "    <tr>\n",
       "      <th>50-yr</th>\n",
       "      <td>3.343141</td>\n",
       "      <td>3.546561</td>\n",
       "      <td>3.623416</td>\n",
       "      <td>3.943797</td>\n",
       "      <td>4.586502</td>\n",
       "      <td>5.435133</td>\n",
       "      <td>6.295829</td>\n",
       "      <td>6.555691</td>\n",
       "    </tr>\n",
       "    <tr>\n",
       "      <th>100-yr</th>\n",
       "      <td>3.826811</td>\n",
       "      <td>4.033195</td>\n",
       "      <td>4.099337</td>\n",
       "      <td>4.423453</td>\n",
       "      <td>5.110585</td>\n",
       "      <td>6.003476</td>\n",
       "      <td>6.997595</td>\n",
       "      <td>7.237503</td>\n",
       "    </tr>\n",
       "    <tr>\n",
       "      <th>200-yr</th>\n",
       "      <td>4.349970</td>\n",
       "      <td>4.553615</td>\n",
       "      <td>4.594063</td>\n",
       "      <td>4.887015</td>\n",
       "      <td>5.639920</td>\n",
       "      <td>6.556563</td>\n",
       "      <td>7.691193</td>\n",
       "      <td>7.860287</td>\n",
       "    </tr>\n",
       "    <tr>\n",
       "      <th>U2-yr</th>\n",
       "      <td>1.384086</td>\n",
       "      <td>1.505920</td>\n",
       "      <td>1.588340</td>\n",
       "      <td>1.803623</td>\n",
       "      <td>2.149814</td>\n",
       "      <td>2.597881</td>\n",
       "      <td>2.901254</td>\n",
       "      <td>3.155948</td>\n",
       "    </tr>\n",
       "    <tr>\n",
       "      <th>U5-yr</th>\n",
       "      <td>2.133546</td>\n",
       "      <td>2.287378</td>\n",
       "      <td>2.380114</td>\n",
       "      <td>2.661470</td>\n",
       "      <td>3.120050</td>\n",
       "      <td>3.743820</td>\n",
       "      <td>4.209390</td>\n",
       "      <td>4.542043</td>\n",
       "    </tr>\n",
       "    <tr>\n",
       "      <th>U10-yr</th>\n",
       "      <td>2.749504</td>\n",
       "      <td>2.904950</td>\n",
       "      <td>2.993529</td>\n",
       "      <td>3.312025</td>\n",
       "      <td>3.791370</td>\n",
       "      <td>4.552533</td>\n",
       "      <td>5.137018</td>\n",
       "      <td>5.503870</td>\n",
       "    </tr>\n",
       "    <tr>\n",
       "      <th>U25-yr</th>\n",
       "      <td>3.709166</td>\n",
       "      <td>3.860456</td>\n",
       "      <td>4.038953</td>\n",
       "      <td>4.397716</td>\n",
       "      <td>4.879482</td>\n",
       "      <td>5.706965</td>\n",
       "      <td>6.630150</td>\n",
       "      <td>6.847956</td>\n",
       "    </tr>\n",
       "    <tr>\n",
       "      <th>U50-yr</th>\n",
       "      <td>4.648179</td>\n",
       "      <td>4.718397</td>\n",
       "      <td>4.905987</td>\n",
       "      <td>5.646388</td>\n",
       "      <td>6.026024</td>\n",
       "      <td>6.822718</td>\n",
       "      <td>7.999170</td>\n",
       "      <td>8.128077</td>\n",
       "    </tr>\n",
       "    <tr>\n",
       "      <th>U100-yr</th>\n",
       "      <td>5.742744</td>\n",
       "      <td>5.802711</td>\n",
       "      <td>5.984938</td>\n",
       "      <td>7.375269</td>\n",
       "      <td>7.527395</td>\n",
       "      <td>8.187461</td>\n",
       "      <td>9.740550</td>\n",
       "      <td>9.637941</td>\n",
       "    </tr>\n",
       "    <tr>\n",
       "      <th>U200-yr</th>\n",
       "      <td>7.038106</td>\n",
       "      <td>7.171049</td>\n",
       "      <td>7.460762</td>\n",
       "      <td>9.926932</td>\n",
       "      <td>9.450836</td>\n",
       "      <td>9.922028</td>\n",
       "      <td>11.983229</td>\n",
       "      <td>11.522111</td>\n",
       "    </tr>\n",
       "  </tbody>\n",
       "</table>\n",
       "</div>"
      ],
      "text/plain": [
       "               1H        2H        3H        6H       12H       24H  \\\n",
       "L2-yr    1.150594  1.248215  1.328290  1.502296  1.764125  2.155792   \n",
       "L5-yr    1.612157  1.763152  1.844905  2.042904  2.440962  2.988397   \n",
       "L10-yr   1.900142  2.060848  2.146333  2.364383  2.881047  3.510846   \n",
       "L25-yr   2.210159  2.378081  2.470393  2.663897  3.295338  4.121224   \n",
       "L50-yr   2.413055  2.561771  2.665462  2.857233  3.514298  4.520836   \n",
       "L100-yr  2.586779  2.719487  2.824081  2.982470  3.690429  4.883220   \n",
       "L200-yr  2.757358  2.855398  2.965889  3.084958  3.845645  5.192879   \n",
       "2-yr     1.258053  1.367965  1.444931  1.644430  1.965536  2.362172   \n",
       "5-yr     1.843011  1.988834  2.086955  2.312304  2.770981  3.343910   \n",
       "10-yr    2.272056  2.440411  2.535148  2.790962  3.322841  4.006040   \n",
       "25-yr    2.871456  3.071854  3.145319  3.445062  4.031533  4.833822   \n",
       "50-yr    3.343141  3.546561  3.623416  3.943797  4.586502  5.435133   \n",
       "100-yr   3.826811  4.033195  4.099337  4.423453  5.110585  6.003476   \n",
       "200-yr   4.349970  4.553615  4.594063  4.887015  5.639920  6.556563   \n",
       "U2-yr    1.384086  1.505920  1.588340  1.803623  2.149814  2.597881   \n",
       "U5-yr    2.133546  2.287378  2.380114  2.661470  3.120050  3.743820   \n",
       "U10-yr   2.749504  2.904950  2.993529  3.312025  3.791370  4.552533   \n",
       "U25-yr   3.709166  3.860456  4.038953  4.397716  4.879482  5.706965   \n",
       "U50-yr   4.648179  4.718397  4.905987  5.646388  6.026024  6.822718   \n",
       "U100-yr  5.742744  5.802711  5.984938  7.375269  7.527395  8.187461   \n",
       "U200-yr  7.038106  7.171049  7.460762  9.926932  9.450836  9.922028   \n",
       "\n",
       "               48H        72H  \n",
       "L2-yr     2.419811   2.657746  \n",
       "L5-yr     3.345583   3.600219  \n",
       "L10-yr    3.963619   4.180359  \n",
       "L25-yr    4.658964   4.874234  \n",
       "L50-yr    5.106028   5.351106  \n",
       "L100-yr   5.490689   5.752912  \n",
       "L200-yr   5.814755   6.075493  \n",
       "2-yr      2.646813   2.901377  \n",
       "5-yr      3.774160   4.079151  \n",
       "10-yr     4.541964   4.858997  \n",
       "25-yr     5.551872   5.828236  \n",
       "50-yr     6.295829   6.555691  \n",
       "100-yr    6.997595   7.237503  \n",
       "200-yr    7.691193   7.860287  \n",
       "U2-yr     2.901254   3.155948  \n",
       "U5-yr     4.209390   4.542043  \n",
       "U10-yr    5.137018   5.503870  \n",
       "U25-yr    6.630150   6.847956  \n",
       "U50-yr    7.999170   8.128077  \n",
       "U100-yr   9.740550   9.637941  \n",
       "U200-yr  11.983229  11.522111  "
      ]
     },
     "execution_count": 12,
     "metadata": {},
     "output_type": "execute_result"
    }
   ],
   "source": [
    "## We can access the dataframe with confidence bounds:\n",
    "\n",
    "data.idf"
   ]
  },
  {
   "cell_type": "markdown",
   "metadata": {},
   "source": [
    "### Step 3: Generate IDF curves"
   ]
  },
  {
   "cell_type": "markdown",
   "metadata": {},
   "source": [
    "We can call the `plot_IDF` method to create the IDF curves and plot them.\n",
    "We need to pass the path where the original data was stored, a path where to store\n",
    "the figure and its format."
   ]
  },
  {
   "cell_type": "code",
   "execution_count": 13,
   "metadata": {
    "collapsed": true
   },
   "outputs": [],
   "source": [
    "savepath = \"/Users/tanialopez/historicalIDF\""
   ]
  },
  {
   "cell_type": "code",
   "execution_count": 14,
   "metadata": {},
   "outputs": [
    {
     "data": {
      "image/png": "[encoded data removed]",
      "text/plain": [
       "<matplotlib.figure.Figure at 0x1a1549c668>"
      ]
     },
     "metadata": {},
     "output_type": "display_data"
    }
   ],
   "source": [
    "# This generates a plot and saves in your folder\n",
    "data.plot_IDF(savepath, 'png') "
   ]
  }
 ],
 "metadata": {
  "kernelspec": {
   "display_name": "Python 3",
   "language": "python",
   "name": "python3"
  },
  "language_info": {
   "codemirror_mode": {
    "name": "ipython",
    "version": 3
   },
   "file_extension": ".py",
   "mimetype": "text/x-python",
   "name": "python",
   "nbconvert_exporter": "python",
   "pygments_lexer": "ipython3",
   "version": "3.6.8"
  }
 },
 "nbformat": 4,
 "nbformat_minor": 2
}
